{
 "cells": [
  {
   "cell_type": "markdown",
   "id": "b4a81b31-ad4b-4fee-b375-cb817ed527d0",
   "metadata": {},
   "source": [
    "**Örnek 1:**\n",
    "\n",
    "Elimizde hayali bir şirketin Reklam verileri var. (Advertising.csv)\n",
    "\n",
    "200 farklı pazarda yapılan TV, Radio ve Newspaper reklam harcamaları sonucu gerçekleşen Satışı (Sales) görüyoruz.\n",
    "\n",
    "Amacımız, reklam harcamaları ile Satış miktarı arasında, varsa, bir ilişki bulmak.\n",
    "\n",
    "Böylece gelecekte ne kadar reklam bütçesi ile tahmini olarak ne kadar satış yapabileceğimizi göreceğiz."
   ]
  },
  {
   "cell_type": "markdown",
   "id": "0bf9a54b-ec63-4919-ac15-c7093deca490",
   "metadata": {},
   "source": [
    "**Girdi Değişenleri:** Harcama Tutarları - USD (TV, Radio, Newspaper) -> Input, Features\n",
    "\n",
    "**Çıktı Değişkeni:** Satış miktarı - Adet (Sales) -> Output, Label"
   ]
  },
  {
   "cell_type": "markdown",
   "id": "c0c1e813-ae5e-48b7-84ec-6d13880fe0ea",
   "metadata": {
    "tags": []
   },
   "source": [
    "$X_1: TV$\n",
    "\n",
    "$X_2: Radio$\n",
    "\n",
    "$X_3: Newspaper$\n",
    "\n",
    "$y: Sales$"
   ]
  },
  {
   "cell_type": "code",
   "execution_count": 4,
   "id": "e164230c-a386-4ac4-9642-fa621193ba86",
   "metadata": {},
   "outputs": [],
   "source": [
    "import pandas as pd\n",
    "import matplotlib.pyplot as plt\n",
    "from sklearn.linear_model import LinearRegression"
   ]
  },
  {
   "cell_type": "code",
   "execution_count": 5,
   "id": "859f1c09-d58a-4831-8118-e750c76bea4b",
   "metadata": {},
   "outputs": [],
   "source": [
    "#datayı okuma\n",
    "\n",
    "df = pd.read_csv('data/Advertising.csv',index_col=0)"
   ]
  },
  {
   "cell_type": "code",
   "execution_count": 6,
   "id": "982eca39-c656-4f55-ac51-5ae68bae8bb5",
   "metadata": {},
   "outputs": [
    {
     "data": {
      "text/html": [
       "<div>\n",
       "<style scoped>\n",
       "    .dataframe tbody tr th:only-of-type {\n",
       "        vertical-align: middle;\n",
       "    }\n",
       "\n",
       "    .dataframe tbody tr th {\n",
       "        vertical-align: top;\n",
       "    }\n",
       "\n",
       "    .dataframe thead th {\n",
       "        text-align: right;\n",
       "    }\n",
       "</style>\n",
       "<table border=\"1\" class=\"dataframe\">\n",
       "  <thead>\n",
       "    <tr style=\"text-align: right;\">\n",
       "      <th></th>\n",
       "      <th>TV</th>\n",
       "      <th>radio</th>\n",
       "      <th>newspaper</th>\n",
       "      <th>sales</th>\n",
       "    </tr>\n",
       "  </thead>\n",
       "  <tbody>\n",
       "    <tr>\n",
       "      <th>count</th>\n",
       "      <td>200.000000</td>\n",
       "      <td>200.000000</td>\n",
       "      <td>200.000000</td>\n",
       "      <td>200.000000</td>\n",
       "    </tr>\n",
       "    <tr>\n",
       "      <th>mean</th>\n",
       "      <td>147.042500</td>\n",
       "      <td>23.264000</td>\n",
       "      <td>30.554000</td>\n",
       "      <td>14.022500</td>\n",
       "    </tr>\n",
       "    <tr>\n",
       "      <th>std</th>\n",
       "      <td>85.854236</td>\n",
       "      <td>14.846809</td>\n",
       "      <td>21.778621</td>\n",
       "      <td>5.217457</td>\n",
       "    </tr>\n",
       "    <tr>\n",
       "      <th>min</th>\n",
       "      <td>0.700000</td>\n",
       "      <td>0.000000</td>\n",
       "      <td>0.300000</td>\n",
       "      <td>1.600000</td>\n",
       "    </tr>\n",
       "    <tr>\n",
       "      <th>25%</th>\n",
       "      <td>74.375000</td>\n",
       "      <td>9.975000</td>\n",
       "      <td>12.750000</td>\n",
       "      <td>10.375000</td>\n",
       "    </tr>\n",
       "    <tr>\n",
       "      <th>50%</th>\n",
       "      <td>149.750000</td>\n",
       "      <td>22.900000</td>\n",
       "      <td>25.750000</td>\n",
       "      <td>12.900000</td>\n",
       "    </tr>\n",
       "    <tr>\n",
       "      <th>75%</th>\n",
       "      <td>218.825000</td>\n",
       "      <td>36.525000</td>\n",
       "      <td>45.100000</td>\n",
       "      <td>17.400000</td>\n",
       "    </tr>\n",
       "    <tr>\n",
       "      <th>max</th>\n",
       "      <td>296.400000</td>\n",
       "      <td>49.600000</td>\n",
       "      <td>114.000000</td>\n",
       "      <td>27.000000</td>\n",
       "    </tr>\n",
       "  </tbody>\n",
       "</table>\n",
       "</div>"
      ],
      "text/plain": [
       "               TV       radio   newspaper       sales\n",
       "count  200.000000  200.000000  200.000000  200.000000\n",
       "mean   147.042500   23.264000   30.554000   14.022500\n",
       "std     85.854236   14.846809   21.778621    5.217457\n",
       "min      0.700000    0.000000    0.300000    1.600000\n",
       "25%     74.375000    9.975000   12.750000   10.375000\n",
       "50%    149.750000   22.900000   25.750000   12.900000\n",
       "75%    218.825000   36.525000   45.100000   17.400000\n",
       "max    296.400000   49.600000  114.000000   27.000000"
      ]
     },
     "execution_count": 6,
     "metadata": {},
     "output_type": "execute_result"
    }
   ],
   "source": [
    "#describe\n",
    "\n",
    "df.describe()"
   ]
  },
  {
   "cell_type": "code",
   "execution_count": 7,
   "id": "1d0ea2a4-e23b-4cd2-ac52-331393aa40a9",
   "metadata": {},
   "outputs": [
    {
     "data": {
      "text/html": [
       "<div>\n",
       "<style scoped>\n",
       "    .dataframe tbody tr th:only-of-type {\n",
       "        vertical-align: middle;\n",
       "    }\n",
       "\n",
       "    .dataframe tbody tr th {\n",
       "        vertical-align: top;\n",
       "    }\n",
       "\n",
       "    .dataframe thead th {\n",
       "        text-align: right;\n",
       "    }\n",
       "</style>\n",
       "<table border=\"1\" class=\"dataframe\">\n",
       "  <thead>\n",
       "    <tr style=\"text-align: right;\">\n",
       "      <th></th>\n",
       "      <th>TV</th>\n",
       "      <th>radio</th>\n",
       "      <th>newspaper</th>\n",
       "      <th>sales</th>\n",
       "    </tr>\n",
       "  </thead>\n",
       "  <tbody>\n",
       "    <tr>\n",
       "      <th>1</th>\n",
       "      <td>230.1</td>\n",
       "      <td>37.8</td>\n",
       "      <td>69.2</td>\n",
       "      <td>22.1</td>\n",
       "    </tr>\n",
       "    <tr>\n",
       "      <th>2</th>\n",
       "      <td>44.5</td>\n",
       "      <td>39.3</td>\n",
       "      <td>45.1</td>\n",
       "      <td>10.4</td>\n",
       "    </tr>\n",
       "    <tr>\n",
       "      <th>3</th>\n",
       "      <td>17.2</td>\n",
       "      <td>45.9</td>\n",
       "      <td>69.3</td>\n",
       "      <td>9.3</td>\n",
       "    </tr>\n",
       "    <tr>\n",
       "      <th>4</th>\n",
       "      <td>151.5</td>\n",
       "      <td>41.3</td>\n",
       "      <td>58.5</td>\n",
       "      <td>18.5</td>\n",
       "    </tr>\n",
       "    <tr>\n",
       "      <th>5</th>\n",
       "      <td>180.8</td>\n",
       "      <td>10.8</td>\n",
       "      <td>58.4</td>\n",
       "      <td>12.9</td>\n",
       "    </tr>\n",
       "  </tbody>\n",
       "</table>\n",
       "</div>"
      ],
      "text/plain": [
       "      TV  radio  newspaper  sales\n",
       "1  230.1   37.8       69.2   22.1\n",
       "2   44.5   39.3       45.1   10.4\n",
       "3   17.2   45.9       69.3    9.3\n",
       "4  151.5   41.3       58.5   18.5\n",
       "5  180.8   10.8       58.4   12.9"
      ]
     },
     "execution_count": 7,
     "metadata": {},
     "output_type": "execute_result"
    }
   ],
   "source": [
    "#head\n",
    "\n",
    "df.head()"
   ]
  },
  {
   "cell_type": "code",
   "execution_count": 9,
   "id": "18ca3e64-f46d-4351-accc-3bde3bf080cb",
   "metadata": {},
   "outputs": [],
   "source": [
    "#input\n",
    "\n",
    "X_1 = df['TV']\n",
    "X_2 = df['radio']\n",
    "X_3 = df['newspaper']"
   ]
  },
  {
   "cell_type": "code",
   "execution_count": 10,
   "id": "00e57972-57eb-4f95-819a-1f7ea987236b",
   "metadata": {},
   "outputs": [
    {
     "data": {
      "text/plain": [
       "1      230.1\n",
       "2       44.5\n",
       "3       17.2\n",
       "4      151.5\n",
       "5      180.8\n",
       "       ...  \n",
       "196     38.2\n",
       "197     94.2\n",
       "198    177.0\n",
       "199    283.6\n",
       "200    232.1\n",
       "Name: TV, Length: 200, dtype: float64"
      ]
     },
     "execution_count": 10,
     "metadata": {},
     "output_type": "execute_result"
    }
   ],
   "source": [
    "#ilk değişken\n",
    "\n",
    "X_1"
   ]
  },
  {
   "cell_type": "code",
   "execution_count": 11,
   "id": "5ad3338d-68ac-42f5-84f8-15d24fe468ef",
   "metadata": {},
   "outputs": [
    {
     "data": {
      "text/plain": [
       "pandas.core.series.Series"
      ]
     },
     "execution_count": 11,
     "metadata": {},
     "output_type": "execute_result"
    }
   ],
   "source": [
    "#ilk değişken tipi\n",
    "\n",
    "type(X_1)"
   ]
  },
  {
   "cell_type": "code",
   "execution_count": 16,
   "id": "78f90805-c4f5-400f-b87a-1a1138eb4cfb",
   "metadata": {},
   "outputs": [
    {
     "data": {
      "text/plain": [
       "(200,)"
      ]
     },
     "execution_count": 16,
     "metadata": {},
     "output_type": "execute_result"
    }
   ],
   "source": [
    "#ilk değişken şekli\n",
    "\n",
    "X_1.shape"
   ]
  },
  {
   "cell_type": "code",
   "execution_count": 15,
   "id": "88691a13-e3f9-4e6a-93e1-c81a881ea285",
   "metadata": {},
   "outputs": [],
   "source": [
    "#output\n",
    "\n",
    "y = df['sales']"
   ]
  },
  {
   "cell_type": "code",
   "execution_count": 17,
   "id": "d42b6904-8b5f-47fa-b8f7-20bc5ac5484d",
   "metadata": {},
   "outputs": [
    {
     "data": {
      "text/plain": [
       "(200,)"
      ]
     },
     "execution_count": 17,
     "metadata": {},
     "output_type": "execute_result"
    }
   ],
   "source": [
    "y.shape"
   ]
  },
  {
   "cell_type": "code",
   "execution_count": 18,
   "id": "b656bbc1-d9ec-4c80-b738-3439df320e27",
   "metadata": {},
   "outputs": [
    {
     "data": {
      "text/plain": [
       "pandas.core.series.Series"
      ]
     },
     "execution_count": 18,
     "metadata": {},
     "output_type": "execute_result"
    }
   ],
   "source": [
    "type(y)"
   ]
  },
  {
   "cell_type": "code",
   "execution_count": 19,
   "id": "c6bf70a2-9a32-4b97-9c29-ed4c7506b921",
   "metadata": {},
   "outputs": [
    {
     "data": {
      "text/plain": [
       "1      22.1\n",
       "2      10.4\n",
       "3       9.3\n",
       "4      18.5\n",
       "5      12.9\n",
       "       ... \n",
       "196     7.6\n",
       "197     9.7\n",
       "198    12.8\n",
       "199    25.5\n",
       "200    13.4\n",
       "Name: sales, Length: 200, dtype: float64"
      ]
     },
     "execution_count": 19,
     "metadata": {},
     "output_type": "execute_result"
    }
   ],
   "source": [
    "y"
   ]
  },
  {
   "cell_type": "code",
   "execution_count": 14,
   "id": "60393c6c-5d63-4332-8559-42902767476a",
   "metadata": {},
   "outputs": [],
   "source": [
    "#regresyon için hazırlık yap\n",
    "\n",
    "linear_regressor = LinearRegression()"
   ]
  },
  {
   "cell_type": "code",
   "execution_count": 20,
   "id": "7800de97-79f1-4834-9cbb-accef913820f",
   "metadata": {},
   "outputs": [],
   "source": [
    "#datafreame'lerin şeklini düzenle -> output\n",
    "\n",
    "y_r = y.values.reshape(-1,1)"
   ]
  },
  {
   "cell_type": "code",
   "execution_count": 21,
   "id": "347e33a6-9e10-4f4c-9d43-729d1a724bb3",
   "metadata": {},
   "outputs": [
    {
     "data": {
      "text/plain": [
       "(200,)"
      ]
     },
     "execution_count": 21,
     "metadata": {},
     "output_type": "execute_result"
    }
   ],
   "source": [
    "#orjinal çıktının şekli\n",
    "#satır,sütun\n",
    "\n",
    "y.shape"
   ]
  },
  {
   "cell_type": "code",
   "execution_count": 22,
   "id": "e676863d-cb75-4f7c-8f86-7aace2560693",
   "metadata": {},
   "outputs": [
    {
     "data": {
      "text/plain": [
       "(200, 1)"
      ]
     },
     "execution_count": 22,
     "metadata": {},
     "output_type": "execute_result"
    }
   ],
   "source": [
    "#yeniden boyutlanmış şekli\n",
    "\n",
    "y_r.shape"
   ]
  },
  {
   "cell_type": "code",
   "execution_count": 24,
   "id": "2b4a0602-1290-40ea-a5e3-0f05df59b037",
   "metadata": {},
   "outputs": [],
   "source": [
    "#datafreame'lerin şeklini düzenle -> input\n",
    "\n",
    "X_1_r = X_1.values.reshape(-1,1)\n",
    "X_2_r = X_2.values.reshape(-1,1)\n",
    "X_3_r = X_3.values.reshape(-1,1)"
   ]
  },
  {
   "cell_type": "code",
   "execution_count": 25,
   "id": "da155ce6-6493-4098-99a6-cc422bbea2be",
   "metadata": {},
   "outputs": [
    {
     "data": {
      "text/plain": [
       "(200, 1)"
      ]
     },
     "execution_count": 25,
     "metadata": {},
     "output_type": "execute_result"
    }
   ],
   "source": [
    "X_1_r.shape"
   ]
  },
  {
   "cell_type": "code",
   "execution_count": 30,
   "id": "338a1d80-b283-4148-beae-b6bb7a8f9f2b",
   "metadata": {},
   "outputs": [
    {
     "data": {
      "text/plain": [
       "Text(0.5, 1.0, 'SATIŞ-TV')"
      ]
     },
     "execution_count": 30,
     "metadata": {},
     "output_type": "execute_result"
    },
    {
     "data": {
      "image/png": "[encoded data removed]",
      "text/plain": [
       "<Figure size 640x480 with 1 Axes>"
      ]
     },
     "metadata": {},
     "output_type": "display_data"
    }
   ],
   "source": [
    "#SATIŞ-TV\n",
    "#data -> X_1\n",
    "\n",
    "plt.scatter(X_1,y, c='orange')\n",
    "\n",
    "#regresyon\n",
    "linear_regressor.fit(X_1_r,y_r)\n",
    "y_pred_1 = linear_regressor.predict(X_1_r)\n",
    "plt.plot(X_1_r,y_pred_1, c='red')\n",
    "\n",
    "plt.xlabel('TV')\n",
    "plt.ylabel('Satış')\n",
    "plt.title('SATIŞ-TV')"
   ]
  },
  {
   "cell_type": "code",
   "execution_count": 34,
   "id": "39e209ce-729a-4ee5-a714-fbb6ae29305e",
   "metadata": {},
   "outputs": [
    {
     "data": {
      "text/plain": [
       "Text(0.5, 1.0, 'SATIŞ-RADIO')"
      ]
     },
     "execution_count": 34,
     "metadata": {},
     "output_type": "execute_result"
    },
    {
     "data": {
      "image/png": "[encoded data removed]",
      "text/plain": [
       "<Figure size 640x480 with 1 Axes>"
      ]
     },
     "metadata": {},
     "output_type": "display_data"
    }
   ],
   "source": [
    "#SATIŞ-RADIO\n",
    "#data -> X_2\n",
    "\n",
    "plt.scatter(X_2,y, c='green')\n",
    "\n",
    "#regresyon\n",
    "linear_regressor.fit(X_2_r,y_r)\n",
    "y_pred_2 = linear_regressor.predict(X_2_r)\n",
    "plt.plot(X_2_r,y_pred_2, c='red')\n",
    "\n",
    "plt.xlabel('Radio')\n",
    "plt.ylabel('Satış')\n",
    "plt.title('SATIŞ-RADIO')\n"
   ]
  },
  {
   "cell_type": "code",
   "execution_count": 36,
   "id": "8b6a3dc1-a289-414c-8655-798803e098ff",
   "metadata": {},
   "outputs": [
    {
     "data": {
      "text/plain": [
       "Text(0.5, 1.0, 'SATIŞ-NEWSPAPER')"
      ]
     },
     "execution_count": 36,
     "metadata": {},
     "output_type": "execute_result"
    },
    {
     "data": {
      "image/png": "[encoded data removed]",
      "text/plain": [
       "<Figure size 640x480 with 1 Axes>"
      ]
     },
     "metadata": {},
     "output_type": "display_data"
    }
   ],
   "source": [
    "#SATIŞ-NEWSPAPER\n",
    "#data -> X_3\n",
    "\n",
    "plt.scatter(X_3,y, c='blue')\n",
    "\n",
    "#regresyon\n",
    "linear_regressor.fit(X_3_r,y_r)\n",
    "y_pred_3 = linear_regressor.predict(X_3_r)\n",
    "plt.plot(X_3_r,y_pred_3, c='red')\n",
    "\n",
    "plt.xlabel('Newspaper')\n",
    "plt.ylabel('Satış')\n",
    "plt.title('SATIŞ-NEWSPAPER')"
   ]
  },
  {
   "cell_type": "markdown",
   "id": "d865938c-fa59-4339-8501-1800a3718194",
   "metadata": {},
   "source": [
    "**Örnek 2:**\n",
    "\n",
    "Gelir ile Eğitim Düzeyi arasındaki ilişkiye bakalım şimdi.\n",
    "\n",
    "Elimizde 30 çalışana ait Gelir (Income) ve Eğitim Yılı (Education) bilgisi var."
   ]
  },
  {
   "cell_type": "code",
   "execution_count": 2,
   "id": "386ebb9f-7bd4-4666-bc36-5dac5c0895fb",
   "metadata": {},
   "outputs": [],
   "source": [
    "import pandas as pd\n",
    "import matplotlib.pyplot as plt\n",
    "from sklearn.linear_model import LinearRegression"
   ]
  },
  {
   "cell_type": "code",
   "execution_count": 3,
   "id": "44d067b2-a735-4385-9083-209dfefa3957",
   "metadata": {},
   "outputs": [],
   "source": [
    "income = pd.read_csv('data/Income.csv',index_col=0)"
   ]
  },
  {
   "cell_type": "code",
   "execution_count": 4,
   "id": "1e85d6c6-68f0-4aff-867c-a29e60db1bc2",
   "metadata": {},
   "outputs": [
    {
     "data": {
      "text/html": [
       "<div>\n",
       "<style scoped>\n",
       "    .dataframe tbody tr th:only-of-type {\n",
       "        vertical-align: middle;\n",
       "    }\n",
       "\n",
       "    .dataframe tbody tr th {\n",
       "        vertical-align: top;\n",
       "    }\n",
       "\n",
       "    .dataframe thead th {\n",
       "        text-align: right;\n",
       "    }\n",
       "</style>\n",
       "<table border=\"1\" class=\"dataframe\">\n",
       "  <thead>\n",
       "    <tr style=\"text-align: right;\">\n",
       "      <th></th>\n",
       "      <th>Education</th>\n",
       "      <th>Income</th>\n",
       "    </tr>\n",
       "  </thead>\n",
       "  <tbody>\n",
       "    <tr>\n",
       "      <th>1</th>\n",
       "      <td>10.000000</td>\n",
       "      <td>26.658839</td>\n",
       "    </tr>\n",
       "    <tr>\n",
       "      <th>2</th>\n",
       "      <td>10.401338</td>\n",
       "      <td>27.306435</td>\n",
       "    </tr>\n",
       "    <tr>\n",
       "      <th>3</th>\n",
       "      <td>10.842809</td>\n",
       "      <td>22.132410</td>\n",
       "    </tr>\n",
       "    <tr>\n",
       "      <th>4</th>\n",
       "      <td>11.244147</td>\n",
       "      <td>21.169841</td>\n",
       "    </tr>\n",
       "    <tr>\n",
       "      <th>5</th>\n",
       "      <td>11.645485</td>\n",
       "      <td>15.192634</td>\n",
       "    </tr>\n",
       "  </tbody>\n",
       "</table>\n",
       "</div>"
      ],
      "text/plain": [
       "   Education     Income\n",
       "1  10.000000  26.658839\n",
       "2  10.401338  27.306435\n",
       "3  10.842809  22.132410\n",
       "4  11.244147  21.169841\n",
       "5  11.645485  15.192634"
      ]
     },
     "execution_count": 4,
     "metadata": {},
     "output_type": "execute_result"
    }
   ],
   "source": [
    "income.head()"
   ]
  },
  {
   "cell_type": "code",
   "execution_count": 5,
   "id": "0d6aaf25-739d-4c31-a78f-b9e91ef3a4e6",
   "metadata": {},
   "outputs": [],
   "source": [
    "#input -> X\n",
    "\n",
    "X = income['Education']"
   ]
  },
  {
   "cell_type": "code",
   "execution_count": 6,
   "id": "a375e2e9-a06f-436a-badf-15ec465f9006",
   "metadata": {},
   "outputs": [],
   "source": [
    "#output -> y\n",
    "\n",
    "y = income ['Income']"
   ]
  },
  {
   "cell_type": "code",
   "execution_count": 9,
   "id": "0cd45d7b-dd21-4e3f-ae36-797eea0c06f3",
   "metadata": {},
   "outputs": [],
   "source": [
    "#regresyon hazırlık\n",
    "#reshape dataframes\n",
    "\n",
    "X_r = X.values.reshape(-1,1)\n",
    "y_r = y.values.reshape(-1,1)"
   ]
  },
  {
   "cell_type": "code",
   "execution_count": 14,
   "id": "4c3e1719-2bbc-4992-bd56-bfe92c1ede84",
   "metadata": {},
   "outputs": [
    {
     "data": {
      "text/plain": [
       "Text(0.5, 1.0, 'INCOME-EDUCATİON')"
      ]
     },
     "execution_count": 14,
     "metadata": {},
     "output_type": "execute_result"
    },
    {
     "data": {
      "image/png": "[encoded data removed]",
      "text/plain": [
       "<Figure size 1000x600 with 1 Axes>"
      ]
     },
     "metadata": {},
     "output_type": "display_data"
    }
   ],
   "source": [
    "#grafik - lineer regresyon\n",
    "\n",
    "#data\n",
    "plt.figure(figsize=(10,6))\n",
    "plt.scatter(X,y)\n",
    "\n",
    "#regresyon doğrusu\n",
    "lr = LinearRegression()\n",
    "lr.fit(X_r,y_r)\n",
    "y_pred = lr.predict(X_r)\n",
    "plt.plot(X,y_pred,color='red')\n",
    "\n",
    "plt.xlabel('Education')\n",
    "plt.ylabel('Income')\n",
    "plt.title('INCOME-EDUCATİON')"
   ]
  },
  {
   "cell_type": "code",
   "execution_count": null,
   "id": "68e49840-bdd5-494c-8c4e-d0659891eec1",
   "metadata": {},
   "outputs": [],
   "source": []
  }
 ],
 "metadata": {
  "kernelspec": {
   "display_name": "Python 3 (ipykernel)",
   "language": "python",
   "name": "python3"
  },
  "language_info": {
   "codemirror_mode": {
    "name": "ipython",
    "version": 3
   },
   "file_extension": ".py",
   "mimetype": "text/x-python",
   "name": "python",
   "nbconvert_exporter": "python",
   "pygments_lexer": "ipython3",
   "version": "3.11.3"
  }
 },
 "nbformat": 4,
 "nbformat_minor": 5
}
